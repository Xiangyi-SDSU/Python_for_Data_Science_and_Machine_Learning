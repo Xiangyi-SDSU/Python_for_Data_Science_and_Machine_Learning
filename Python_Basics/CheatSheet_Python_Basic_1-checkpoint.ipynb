{
 "cells": [
  {
   "cell_type": "markdown",
   "id": "36c2d38d",
   "metadata": {},
   "source": [
    "# Python Basics 1"
   ]
  },
  {
   "cell_type": "markdown",
   "id": "ff4b9b3e",
   "metadata": {},
   "source": [
    " ## Contents  \n",
    "1. <a href='#section1'>Syntax and whitespace</a>\n",
    "2. <a href='#section2'>Numbers and operations</a>\n",
    "3. <a href='#section3'>String manipulation</a>\n",
    "4. <a href='#section4'>Lists, tuples, and dictionaries</a>\n",
    "5. <a href='#section5'>JSON</a>\n",
    "6. <a href='#section6'>Loops</a>"
   ]
  },
  {
   "cell_type": "markdown",
   "id": "25b77bd3",
   "metadata": {},
   "source": [
    "<a id='section_1'></a>\n",
    "\n",
    "## 1. Syntax and whitespace\n",
    "Python's use of indentation for indicating the level of statements is one of its most distinctive features. The following cell is an example where '**if**', '**elif**' and '**else**' are in same level, while '**print**' is separated by space to a different level. Spacing should be the same for items that are on the same level.\n",
    "\n"
   ]
  },
  {
   "cell_type": "code",
   "execution_count": 1,
   "id": "d2066b19",
   "metadata": {},
   "outputs": [],
   "source": [
    "def check_number(num):\n",
    "    if num > 0:\n",
    "        print(\"The number is positive.\")\n",
    "    elif num == 0:\n",
    "        print(\"The number is zero.\")\n",
    "    else:\n",
    "        print(\"The number is negative.\")"
   ]
  },
  {
   "cell_type": "markdown",
   "id": "c6f1ecb2",
   "metadata": {},
   "source": [
    "<a id='section_2'></a>\n",
    "## 2. Numbers and operations\n",
    "\n",
    "There are four types of numbers:\n",
    " - Integers\n",
    " - Floating point number\n",
    " - Long integer\n",
    " - Complex number (e.g., 3 + 4j)\n",
    "\n"
   ]
  },
  {
   "cell_type": "markdown",
   "id": "e80b2a0b",
   "metadata": {},
   "source": [
    "Operation       |      Result\n",
    "------------------ |-------------------------------------               \n",
    "x + y\t        |      Sum of x and y\t\n",
    "x - y\t        |      Difference of x and y\t\n",
    "x * y\t        |      Product of x and y\t\n",
    "x / y\t        |      Quotient of x and y\n",
    "x // y\t        |      Quotient of x and y (floored)\n",
    "x % y\t        |      Remainder of x / y\n",
    "abs(x)\t        |      Absolute value of x\t\n",
    "int(x)\t        |      x converted to integer\n",
    "long(x)\t        |      x converted to long integer\n",
    "float(x)\t     |      x converted to floating point\t\n",
    "pow(x, y)\t     |      x to the power y\t\n",
    "x ** y\t        |      x to the power y\t"
   ]
  },
  {
   "cell_type": "code",
   "execution_count": 2,
   "id": "19a09344",
   "metadata": {},
   "outputs": [
    {
     "name": "stdout",
     "output_type": "stream",
     "text": [
      "Sum of 5 and 6 is 11\n"
     ]
    }
   ],
   "source": [
    "# Examples\n",
    "a = 5 \n",
    "b = 6\n",
    "print(\"Sum of {} and {} is {}\".format(a,b,a + b))"
   ]
  },
  {
   "cell_type": "markdown",
   "id": "63c40306",
   "metadata": {},
   "source": [
    "<a id='section3'></a>\n",
    "\n",
    "## 3. String manipulation\n",
    "\n",
    "Python offers a wide array of string manipulation capabilities. Here are some common cases that demonstrate various aspects of string manipulation in Python:\n",
    "\n"
   ]
  },
  {
   "cell_type": "markdown",
   "id": "71dd85cd",
   "metadata": {},
   "source": [
    "1. Concatenation\n",
    "Combining strings together."
   ]
  },
  {
   "cell_type": "code",
   "execution_count": 3,
   "id": "74603745",
   "metadata": {},
   "outputs": [
    {
     "data": {
      "text/plain": [
       "'Hello World'"
      ]
     },
     "execution_count": 3,
     "metadata": {},
     "output_type": "execute_result"
    }
   ],
   "source": [
    "str1 = \"Hello\"\n",
    "str2 = \"World\"\n",
    "concatenated = str1 + \" \" + str2  # Outputs: \"Hello World\"\n",
    "concatenated"
   ]
  },
  {
   "cell_type": "markdown",
   "id": "4e3b85f2",
   "metadata": {},
   "source": [
    "2. Slicing\n",
    "Extracting a part of a string."
   ]
  },
  {
   "cell_type": "code",
   "execution_count": 4,
   "id": "775ecf02",
   "metadata": {},
   "outputs": [],
   "source": [
    "text = \"Python Programming\"\n",
    "slice1 = text[0:6]  # Outputs: \"Python\"\n",
    "slice2 = text[7:]   # Outputs: \"Programming\""
   ]
  },
  {
   "cell_type": "markdown",
   "id": "796c48c2",
   "metadata": {},
   "source": [
    "3. Changing Case\n",
    "Converting string to upper case, lower case, etc."
   ]
  },
  {
   "cell_type": "code",
   "execution_count": 5,
   "id": "676fc0ce",
   "metadata": {},
   "outputs": [],
   "source": [
    "original = \"Python\"\n",
    "upper_case = original.upper()    # Outputs: \"PYTHON\"\n",
    "lower_case = original.lower()    # Outputs: \"python\"\n",
    "title_case = original.title()    # Outputs: \"Python\""
   ]
  },
  {
   "cell_type": "markdown",
   "id": "545ad645",
   "metadata": {},
   "source": [
    "4. Splitting and Joining\n",
    "Breaking a string into a list and joining a list into a string."
   ]
  },
  {
   "cell_type": "code",
   "execution_count": 6,
   "id": "53f5ba25",
   "metadata": {},
   "outputs": [],
   "source": [
    "sentence = \"Python is fun\"\n",
    "words = sentence.split()             # Outputs: ['Python', 'is', 'fun']\n",
    "joined = \" \".join(words)             # Outputs: \"Python is fun\""
   ]
  },
  {
   "cell_type": "markdown",
   "id": "a280a172",
   "metadata": {},
   "source": [
    "5. Stripping\n",
    "Removing whitespace or specified characters from the beginning and end of a string."
   ]
  },
  {
   "cell_type": "code",
   "execution_count": 7,
   "id": "6fc87570",
   "metadata": {},
   "outputs": [],
   "source": [
    "spaced = \"   Python   \"\n",
    "stripped = spaced.strip(' ')  # Outputs: \"Python\""
   ]
  },
  {
   "cell_type": "markdown",
   "id": "1ea3e466",
   "metadata": {},
   "source": [
    "6. Replacing\n",
    "Replacing part of a string with another string."
   ]
  },
  {
   "cell_type": "code",
   "execution_count": 8,
   "id": "3b492d8b",
   "metadata": {},
   "outputs": [
    {
     "data": {
      "text/plain": [
       "'Python is awesome'"
      ]
     },
     "execution_count": 8,
     "metadata": {},
     "output_type": "execute_result"
    }
   ],
   "source": [
    "text = \"Python is fun\"\n",
    "replaced = text.replace(\"fun\", \"awesome\")  # Outputs: \"Python is awesome\"\n",
    "replaced"
   ]
  },
  {
   "cell_type": "markdown",
   "id": "7eeb5a12",
   "metadata": {},
   "source": [
    "7. Formatting\n",
    "Inserting variables or formatting numbers within a string."
   ]
  },
  {
   "cell_type": "code",
   "execution_count": 9,
   "id": "e35cb80f",
   "metadata": {},
   "outputs": [],
   "source": [
    "name = \"Alice\"\n",
    "age = 30\n",
    "formatted = f\"Name: {name}, Age: {age}\"  # Outputs: \"Name: Alice, Age: 30\""
   ]
  },
  {
   "cell_type": "markdown",
   "id": "cba4afac",
   "metadata": {},
   "source": [
    "8. Checking Substrings\n",
    "Checking if a string contains a certain substring."
   ]
  },
  {
   "cell_type": "code",
   "execution_count": 10,
   "id": "d173b728",
   "metadata": {},
   "outputs": [],
   "source": [
    "text = \"Python programming\"\n",
    "contains = \"Python\" in text  # Outputs: True"
   ]
  },
  {
   "cell_type": "markdown",
   "id": "77d317d0",
   "metadata": {},
   "source": [
    "9. Finding Substrings\n",
    "Finding the position of a substring within a string."
   ]
  },
  {
   "cell_type": "code",
   "execution_count": 11,
   "id": "a6a6a298",
   "metadata": {},
   "outputs": [],
   "source": [
    "text = \"Python\"\n",
    "index = text.find(\"th\")  # Outputs: 2"
   ]
  },
  {
   "cell_type": "markdown",
   "id": "a02685e6",
   "metadata": {},
   "source": [
    "10. String Length\n",
    "Finding the length of a string."
   ]
  },
  {
   "cell_type": "code",
   "execution_count": 12,
   "id": "1c7dda9c",
   "metadata": {},
   "outputs": [],
   "source": [
    "text = \"Python\"\n",
    "length = len(text)  # Outputs: 6"
   ]
  },
  {
   "cell_type": "markdown",
   "id": "a9840b0b",
   "metadata": {},
   "source": [
    "<a id='section4'></a>\n",
    "\n",
    "## 4. Lists, tuples, and dictionaries\n",
    "\n",
    "Python supports data types lists, tuples, dictionaries, and arrays."
   ]
  },
  {
   "cell_type": "markdown",
   "id": "7db1aaa7",
   "metadata": {},
   "source": [
    "### Lists\n",
    "\n",
    "A list can have any number of items (integer, float, strings, etc.)."
   ]
  },
  {
   "cell_type": "markdown",
   "id": "9baa6c38",
   "metadata": {},
   "source": [
    "1. Creating a List\n",
    "You can create a list simply by enclosing elements in square brackets []."
   ]
  },
  {
   "cell_type": "code",
   "execution_count": 13,
   "id": "0ac69841",
   "metadata": {},
   "outputs": [],
   "source": [
    "my_list = [1, 2,'h', 3, 4, 5]"
   ]
  },
  {
   "cell_type": "markdown",
   "id": "0224eecd",
   "metadata": {},
   "source": [
    "2. Adding Elements\n",
    "- Append: Adds an element to the end of the list.\n",
    "- Extend: Adds multiple elements to the end.\n",
    "- Insert: Inserts an element at a specific position."
   ]
  },
  {
   "cell_type": "code",
   "execution_count": 14,
   "id": "9cb22f60",
   "metadata": {},
   "outputs": [
    {
     "data": {
      "text/plain": [
       "[0, 1, 2, 'h', 3, 4, 5, 6, 7, 8, 9]"
      ]
     },
     "execution_count": 14,
     "metadata": {},
     "output_type": "execute_result"
    }
   ],
   "source": [
    "my_list.append(6)  # Adds 6 to the end of the list\n",
    "my_list.extend([7, 8, 9])  # Adds 7, 8, 9 to the end of the list\n",
    "my_list.insert(0, 0)  # Inserts 0 at the beginning of the list\n",
    "my_list"
   ]
  },
  {
   "cell_type": "markdown",
   "id": "cb248dc5",
   "metadata": {},
   "source": [
    "3. Removing Elements\n",
    "- Remove: Removes the first occurrence of a value.\n",
    "- Pop: Removes and returns an element at a given index.\n",
    "- Clear: Removes all elements from the list."
   ]
  },
  {
   "cell_type": "code",
   "execution_count": 15,
   "id": "f72b0976",
   "metadata": {},
   "outputs": [
    {
     "name": "stdout",
     "output_type": "stream",
     "text": [
      "[0, 1, 2, 'h', 3, 4, 6, 7, 8, 9]\n",
      "[0, 1, 2, 'h', 4, 6, 7, 8, 9]\n"
     ]
    }
   ],
   "source": [
    "my_list.remove(5)  # Removes the first 5 found in the list\n",
    "print(my_list)\n",
    "last_element = my_list.pop(4)  # Removes item of index 4\n",
    "print(my_list)\n",
    "#my_list.clear()  # Empties the list"
   ]
  },
  {
   "cell_type": "markdown",
   "id": "daae93ec",
   "metadata": {},
   "source": [
    "4. Slicing\n",
    "Extracts a portion of the list."
   ]
  },
  {
   "cell_type": "code",
   "execution_count": 16,
   "id": "f748337a",
   "metadata": {},
   "outputs": [
    {
     "data": {
      "text/plain": [
       "[1, 2, 'h']"
      ]
     },
     "execution_count": 16,
     "metadata": {},
     "output_type": "execute_result"
    }
   ],
   "source": [
    "sub_list = my_list[1:4]  # Gets elements from index 1 to 3\n",
    "sub_list"
   ]
  },
  {
   "cell_type": "markdown",
   "id": "fe6344b0",
   "metadata": {},
   "source": [
    "5. Modifying Elements\n",
    "You can change the value of elements using their index."
   ]
  },
  {
   "cell_type": "code",
   "execution_count": 17,
   "id": "e933eeee",
   "metadata": {},
   "outputs": [
    {
     "data": {
      "text/plain": [
       "[-1, 1, 2, 'h', 4, 6, 7, 8, 9]"
      ]
     },
     "execution_count": 17,
     "metadata": {},
     "output_type": "execute_result"
    }
   ],
   "source": [
    "my_list[0] = -1  # Changes the first element to -1\n",
    "my_list"
   ]
  },
  {
   "cell_type": "markdown",
   "id": "3012a77f",
   "metadata": {},
   "source": [
    "6. Finding Elements\n",
    "Checking if a value is in a list."
   ]
  },
  {
   "cell_type": "code",
   "execution_count": 18,
   "id": "630b3f30",
   "metadata": {},
   "outputs": [
    {
     "data": {
      "text/plain": [
       "False"
      ]
     },
     "execution_count": 18,
     "metadata": {},
     "output_type": "execute_result"
    }
   ],
   "source": [
    "contains = 3 in my_list  # True if 3 is in the list, otherwise False\n",
    "contains"
   ]
  },
  {
   "cell_type": "markdown",
   "id": "aafd8ea4",
   "metadata": {},
   "source": [
    "7. List Length\n",
    "Getting the number of elements in a list."
   ]
  },
  {
   "cell_type": "code",
   "execution_count": 19,
   "id": "a7a538b9",
   "metadata": {},
   "outputs": [],
   "source": [
    "length = len(my_list)  # Returns the number of elements in the list"
   ]
  },
  {
   "cell_type": "markdown",
   "id": "0dd01107",
   "metadata": {},
   "source": [
    "8. Reversing\n",
    "Reverses the elements of the list in place."
   ]
  },
  {
   "cell_type": "code",
   "execution_count": 20,
   "id": "317b8804",
   "metadata": {},
   "outputs": [
    {
     "data": {
      "text/plain": [
       "[9, 8, 7, 6, 4, 'h', 2, 1, -1]"
      ]
     },
     "execution_count": 20,
     "metadata": {},
     "output_type": "execute_result"
    }
   ],
   "source": [
    "my_list.reverse()  # Reverses the list\n",
    "my_list"
   ]
  },
  {
   "cell_type": "markdown",
   "id": "d8690e6a",
   "metadata": {},
   "source": [
    "### Tuples\n",
    "\n",
    "A tuple is similar to a list, but you use them with parentheses ( ) instead of square brackets. The main difference is that a tuple is immutable, while a list is mutable."
   ]
  },
  {
   "cell_type": "markdown",
   "id": "508e48a9",
   "metadata": {},
   "source": [
    "Example of Tuple Containing Mutable Objects:"
   ]
  },
  {
   "cell_type": "code",
   "execution_count": 21,
   "id": "4d16c8b9",
   "metadata": {},
   "outputs": [
    {
     "name": "stdout",
     "output_type": "stream",
     "text": [
      "(1, 2, 3, ['x', 'b', 'c'])\n"
     ]
    }
   ],
   "source": [
    "# Creating a tuple containing a list\n",
    "my_tuple = (1, 2, 3, [\"a\", \"b\", \"c\"])\n",
    "\n",
    "# Attempting to modify the tuple directly will raise an error\n",
    "# my_tuple[0] = 100  # This would raise a TypeError\n",
    "\n",
    "# However, modifying the mutable element (list) within the tuple is possible\n",
    "my_tuple[3][0] = \"x\"\n",
    "\n",
    "# The tuple now looks like this\n",
    "print(my_tuple)  # Output: (1, 2, 3, ['x', 'b', 'c'])\n"
   ]
  },
  {
   "cell_type": "markdown",
   "id": "dc4b622d",
   "metadata": {},
   "source": [
    "### Dictionaries\n",
    "\n",
    "A dictionary consists of a collection of key-value pairs."
   ]
  },
  {
   "cell_type": "code",
   "execution_count": 22,
   "id": "5e0e1507",
   "metadata": {},
   "outputs": [
    {
     "data": {
      "text/plain": [
       "'jack'"
      ]
     },
     "execution_count": 22,
     "metadata": {},
     "output_type": "execute_result"
    }
   ],
   "source": [
    "info = {'name': 'jack', 'age': 23, 'occupation': 'student'}\n",
    "info['name']"
   ]
  },
  {
   "cell_type": "markdown",
   "id": "6902a8a3",
   "metadata": {},
   "source": [
    "<a id='section5'></a>\n",
    "\n",
    "## 5. JSON \n",
    "\n",
    "JSON is text writen in JavaScript Object Notation. Python has a built-in package called `json` that can be used to work with JSON data."
   ]
  },
  {
   "cell_type": "code",
   "execution_count": 23,
   "id": "260f6a4c",
   "metadata": {},
   "outputs": [
    {
     "name": "stdout",
     "output_type": "stream",
     "text": [
      "{\"name\": \"jack\", \"age\": 23, \"occupation\": \"student\"}\n",
      "<class 'str'>\n",
      "{'name': 'jack', 'age': 23, 'occupation': 'student'}\n",
      "<class 'dict'>\n"
     ]
    }
   ],
   "source": [
    "import json\n",
    "\n",
    "#from dictionary to JSON data\n",
    "#Serializing JSON (Dict to JSON String)\n",
    "info_json = json.dumps(info)\n",
    "print(info_json)\n",
    "print(type(info_json))\n",
    "\n",
    "#from JSON data to dictionary\n",
    "#Deserializing JSON (JSON String to Dict)\n",
    "info_dict = json.loads(info_json)\n",
    "print(info_dict)\n",
    "print(type(info_dict))"
   ]
  },
  {
   "cell_type": "markdown",
   "id": "b1a8e30b",
   "metadata": {},
   "source": [
    "Writing JSON data to a file."
   ]
  },
  {
   "cell_type": "code",
   "execution_count": 24,
   "id": "4adf0145",
   "metadata": {},
   "outputs": [],
   "source": [
    "with open('output.json', 'w') as file:\n",
    "    json.dump(info_dict, file)"
   ]
  },
  {
   "cell_type": "markdown",
   "id": "a97616fc",
   "metadata": {},
   "source": [
    "Reading JSON data from a file and convert it into a Python object."
   ]
  },
  {
   "cell_type": "code",
   "execution_count": 25,
   "id": "7d83615b",
   "metadata": {},
   "outputs": [
    {
     "name": "stdout",
     "output_type": "stream",
     "text": [
      "{'name': 'jack', 'age': 23, 'occupation': 'student'}\n"
     ]
    }
   ],
   "source": [
    "with open('output.json', 'r') as file:\n",
    "    data = json.load(file)\n",
    "    print(data)"
   ]
  },
  {
   "cell_type": "markdown",
   "id": "5f89fa5b",
   "metadata": {},
   "source": [
    "<a id='section6'></a>\n",
    "## 6. Loops\n",
    "**if, elif, else  loop** and **for loop**"
   ]
  },
  {
   "cell_type": "code",
   "execution_count": 26,
   "id": "075802e4",
   "metadata": {},
   "outputs": [
    {
     "name": "stdout",
     "output_type": "stream",
     "text": [
      "1 is odd\n",
      "2 is even\n",
      "3 is odd\n",
      "4 is even\n",
      "5 is odd\n",
      "6 is even\n",
      "7 is odd\n",
      "8 is even\n",
      "9 is odd\n",
      "10 is even\n"
     ]
    }
   ],
   "source": [
    "numbers = [1, 2, 3, 4, 5, 6, 7, 8, 9, 10]\n",
    "\n",
    "for number in numbers:\n",
    "    if number % 2 == 0:\n",
    "        print(f\"{number} is even\")\n",
    "    else:\n",
    "        print(f\"{number} is odd\")\n"
   ]
  },
  {
   "cell_type": "markdown",
   "id": "8ba0ba2d",
   "metadata": {},
   "source": [
    "**while loop**"
   ]
  },
  {
   "cell_type": "code",
   "execution_count": 27,
   "id": "12b488aa",
   "metadata": {},
   "outputs": [
    {
     "name": "stdout",
     "output_type": "stream",
     "text": [
      "1\n",
      "3\n",
      "4\n",
      "5\n",
      "x is no longer less than 5\n"
     ]
    }
   ],
   "source": [
    "x = 0\n",
    "while x < 5:\n",
    "    x += 1\n",
    "    if x == 2:\n",
    "        continue\n",
    "    print(x)\n",
    "else:\n",
    "    print(\"x is no longer less than 5\")"
   ]
  },
  {
   "cell_type": "code",
   "execution_count": null,
   "id": "78702854",
   "metadata": {},
   "outputs": [],
   "source": []
  }
 ],
 "metadata": {
  "kernelspec": {
   "display_name": "Python 3 (ipykernel)",
   "language": "python",
   "name": "python3"
  },
  "language_info": {
   "codemirror_mode": {
    "name": "ipython",
    "version": 3
   },
   "file_extension": ".py",
   "mimetype": "text/x-python",
   "name": "python",
   "nbconvert_exporter": "python",
   "pygments_lexer": "ipython3",
   "version": "3.9.7"
  }
 },
 "nbformat": 4,
 "nbformat_minor": 5
}
